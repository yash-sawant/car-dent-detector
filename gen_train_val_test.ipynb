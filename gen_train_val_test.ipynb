{
 "cells": [
  {
   "cell_type": "code",
   "execution_count": 1,
   "id": "a3bb84fe",
   "metadata": {},
   "outputs": [],
   "source": [
    "import os\n",
    "import pandas as pd\n",
    "import numpy as np\n",
    "import itertools"
   ]
  },
  {
   "cell_type": "markdown",
   "id": "78b96e19",
   "metadata": {},
   "source": [
    "https://madewithml.com/courses/mlops/splitting/"
   ]
  },
  {
   "cell_type": "code",
   "execution_count": 2,
   "id": "3a3ba41e",
   "metadata": {},
   "outputs": [],
   "source": [
    "class LabelEncoder(object):\n",
    "    \"\"\"Label encoder for tag labels.\"\"\"\n",
    "    def __init__(self, class_to_index={}):\n",
    "        self.class_to_index = class_to_index\n",
    "        self.index_to_class = {v: k for k, v in self.class_to_index.items()}\n",
    "        self.classes = list(self.class_to_index.keys())\n",
    "\n",
    "    def __len__(self):\n",
    "        return len(self.class_to_index)\n",
    "\n",
    "    def __str__(self):\n",
    "        return f\"<LabelEncoder(num_classes={len(self)})>\"\n",
    "\n",
    "    def fit(self, y):\n",
    "        classes = np.unique(list(itertools.chain.from_iterable(y)))\n",
    "        for i, class_ in enumerate(classes):\n",
    "            self.class_to_index[class_] = i\n",
    "        self.index_to_class = {v: k for k, v in self.class_to_index.items()}\n",
    "        self.classes = list(self.class_to_index.keys())\n",
    "        return self\n",
    "\n",
    "    def encode(self, y):\n",
    "        y_one_hot = np.zeros((len(y), len(self.class_to_index)), dtype=int)\n",
    "        for i, item in enumerate(y):\n",
    "            for class_ in item:\n",
    "                y_one_hot[i][self.class_to_index[class_]] = 1\n",
    "        return y_one_hot\n",
    "\n",
    "    def decode(self, y):\n",
    "        classes = []\n",
    "        for i, item in enumerate(y):\n",
    "            indices = np.where(item == 1)[0]\n",
    "            classes.append([self.index_to_class[index] for index in indices])\n",
    "        return classes\n",
    "\n",
    "    def save(self, fp):\n",
    "        with open(fp, \"w\") as fp:\n",
    "            contents = {\"class_to_index\": self.class_to_index}\n",
    "            json.dump(contents, fp, indent=4, sort_keys=False)\n",
    "\n",
    "    @classmethod\n",
    "    def load(cls, fp):\n",
    "        with open(fp, \"r\") as fp:\n",
    "            kwargs = json.load(fp=fp)\n",
    "        return cls(**kwargs)"
   ]
  },
  {
   "cell_type": "code",
   "execution_count": 3,
   "id": "c652844d",
   "metadata": {},
   "outputs": [],
   "source": [
    "import xml.etree.ElementTree as ET\n",
    "def read_content(xml_file: str):\n",
    "\n",
    "    tree = ET.parse(xml_file)\n",
    "    root = tree.getroot()\n",
    "\n",
    "    list_boxes = []\n",
    "    list_labels = []\n",
    "    filename = root.find('filename').text\n",
    "    for boxes in root.iter('object'):\n",
    "        label = str(boxes.find('name').text)\n",
    "        ymin, xmin, ymax, xmax = None, None, None, None\n",
    "\n",
    "        ymin = int(boxes.find(\"bndbox/ymin\").text)\n",
    "        xmin = int(boxes.find(\"bndbox/xmin\").text)\n",
    "        ymax = int(boxes.find(\"bndbox/ymax\").text)\n",
    "        xmax = int(boxes.find(\"bndbox/xmax\").text)\n",
    "\n",
    "        list_with_single_boxes = [xmin, ymin, xmax, ymax]\n",
    "        list_boxes.append(list_with_single_boxes)\n",
    "        list_labels.append(label)\n",
    "\n",
    "    return filename, list_boxes,list_labels"
   ]
  },
  {
   "cell_type": "code",
   "execution_count": 4,
   "id": "4f1527cd",
   "metadata": {},
   "outputs": [],
   "source": [
    "data_dir = os.path.join('datasets','car_dent_voc_comb')"
   ]
  },
  {
   "cell_type": "code",
   "execution_count": 5,
   "id": "b93fc433",
   "metadata": {},
   "outputs": [],
   "source": [
    "fname = data_dir+'/1--1-_jpeg.rf.4e797e339487b67b9581f01fb5482963.xml'"
   ]
  },
  {
   "cell_type": "code",
   "execution_count": 6,
   "id": "f23c2e1f",
   "metadata": {},
   "outputs": [
    {
     "data": {
      "text/plain": [
       "('1--1-_jpeg.rf.4e797e339487b67b9581f01fb5482963.jpg',\n",
       " [[75, 89, 638, 641]],\n",
       " ['front-bumper-dent'])"
      ]
     },
     "execution_count": 6,
     "metadata": {},
     "output_type": "execute_result"
    }
   ],
   "source": [
    "read_content(fname)"
   ]
  },
  {
   "cell_type": "markdown",
   "id": "6605bb67",
   "metadata": {},
   "source": [
    "### Reading loading file names and corresponding labels"
   ]
  },
  {
   "cell_type": "code",
   "execution_count": 7,
   "id": "f8033562",
   "metadata": {},
   "outputs": [],
   "source": [
    "files = []\n",
    "labels = []\n",
    "for file in os.listdir(data_dir):\n",
    "    \n",
    "    if file.rsplit('.')[-1] == 'xml':\n",
    "        path = os.path.join(data_dir,file)\n",
    "        img,bbox,label = read_content(path)\n",
    "        files.append(img)\n",
    "        labels.append(label)"
   ]
  },
  {
   "cell_type": "code",
   "execution_count": 22,
   "id": "d39b27fa",
   "metadata": {},
   "outputs": [],
   "source": [
    "train_df = pd.DataFrame({'filename':files,'labels':labels})"
   ]
  },
  {
   "cell_type": "markdown",
   "id": "bda0af61",
   "metadata": {},
   "source": [
    "### Checking class representations"
   ]
  },
  {
   "cell_type": "code",
   "execution_count": 23,
   "id": "317c2c89",
   "metadata": {},
   "outputs": [
    {
     "data": {
      "text/plain": [
       "labels\n",
       "front-bumper-dent          1014\n",
       "doorouter-dent              776\n",
       "bonnet-dent                 557\n",
       "rear-bumper-dent            554\n",
       "fender-dent                 480\n",
       "quaterpanel-dent            417\n",
       "Headlight-Damage            285\n",
       "Rear-windscreen-Damage      253\n",
       "Taillight-Damage            233\n",
       "roof-dent                   232\n",
       "RunningBoard-Dent           216\n",
       "Sidemirror-Damage           185\n",
       "Front-Windscreen-Damage     140\n",
       "Signlight-Damage             56\n",
       "pillar-dent                  42\n",
       "medium-Bodypanel-Dent         3\n",
       "Major-Rear-Bumper-Dent        1\n",
       "dtype: int64"
      ]
     },
     "execution_count": 23,
     "metadata": {},
     "output_type": "execute_result"
    }
   ],
   "source": [
    "train_df.explode('labels').value_counts('labels')"
   ]
  },
  {
   "cell_type": "markdown",
   "id": "8da0c90d",
   "metadata": {},
   "source": [
    "### dropping classes with very less representation"
   ]
  },
  {
   "cell_type": "code",
   "execution_count": 24,
   "id": "5d17661d",
   "metadata": {},
   "outputs": [],
   "source": [
    "drop_labels = ['medium-Bodypanel-Dent','Major-Rear-Bumper-Dent']"
   ]
  },
  {
   "cell_type": "code",
   "execution_count": 25,
   "id": "48fc167e",
   "metadata": {},
   "outputs": [],
   "source": [
    "train_df['labels'] = train_df['labels'].apply(lambda x:[v for v in x if v not in drop_labels])"
   ]
  },
  {
   "cell_type": "code",
   "execution_count": 26,
   "id": "dce06ae5",
   "metadata": {},
   "outputs": [
    {
     "data": {
      "text/plain": [
       "labels\n",
       "front-bumper-dent          1014\n",
       "doorouter-dent              776\n",
       "bonnet-dent                 557\n",
       "rear-bumper-dent            554\n",
       "fender-dent                 480\n",
       "quaterpanel-dent            417\n",
       "Headlight-Damage            285\n",
       "Rear-windscreen-Damage      253\n",
       "Taillight-Damage            233\n",
       "roof-dent                   232\n",
       "RunningBoard-Dent           216\n",
       "Sidemirror-Damage           185\n",
       "Front-Windscreen-Damage     140\n",
       "Signlight-Damage             56\n",
       "pillar-dent                  42\n",
       "dtype: int64"
      ]
     },
     "execution_count": 26,
     "metadata": {},
     "output_type": "execute_result"
    }
   ],
   "source": [
    "train_df.explode('labels').value_counts('labels')"
   ]
  },
  {
   "cell_type": "code",
   "execution_count": 27,
   "id": "900abacb",
   "metadata": {},
   "outputs": [
    {
     "name": "stdout",
     "output_type": "stream",
     "text": [
      "3747\n"
     ]
    },
    {
     "data": {
      "text/plain": [
       "3747"
      ]
     },
     "execution_count": 27,
     "metadata": {},
     "output_type": "execute_result"
    }
   ],
   "source": [
    "print(len(train_df))\n",
    "train_df.dropna(inplace=True)\n",
    "len(train_df)"
   ]
  },
  {
   "cell_type": "markdown",
   "id": "175f6538",
   "metadata": {},
   "source": [
    "### Splitting dataset"
   ]
  },
  {
   "cell_type": "code",
   "execution_count": 28,
   "id": "5155b7ac",
   "metadata": {},
   "outputs": [],
   "source": [
    "X = train_df.filename.to_numpy()\n",
    "y = train_df.labels.to_numpy()"
   ]
  },
  {
   "cell_type": "code",
   "execution_count": 29,
   "id": "99a9cfc3",
   "metadata": {},
   "outputs": [
    {
     "data": {
      "text/plain": [
       "17"
      ]
     },
     "execution_count": 29,
     "metadata": {},
     "output_type": "execute_result"
    }
   ],
   "source": [
    "label_encoder = LabelEncoder()\n",
    "label_encoder.fit(y)\n",
    "num_classes = len(label_encoder)\n",
    "num_classes"
   ]
  },
  {
   "cell_type": "code",
   "execution_count": 30,
   "id": "7a34d868",
   "metadata": {},
   "outputs": [],
   "source": [
    "Y = label_encoder.encode(y)"
   ]
  },
  {
   "cell_type": "code",
   "execution_count": 33,
   "id": "09aaf9a5",
   "metadata": {},
   "outputs": [],
   "source": [
    "# Split sizes\n",
    "train_size = 0.7\n",
    "val_size = 0.15\n",
    "test_size = 0.15"
   ]
  },
  {
   "cell_type": "code",
   "execution_count": 41,
   "id": "4e61a2ba",
   "metadata": {},
   "outputs": [],
   "source": [
    "from skmultilearn.model_selection import IterativeStratification\n",
    "from collections import Counter\n",
    "from skmultilearn.model_selection.measures import get_combination_wise_output_matrix\n",
    "\n",
    "def iterative_train_test_split(X, y, train_size):\n",
    "    \"\"\"Custom iterative train test split which\n",
    "    'maintains balanced representation with respect\n",
    "    to order-th label combinations.'\n",
    "    \"\"\"\n",
    "    stratifier = IterativeStratification(\n",
    "        n_splits=2, order=1, sample_distribution_per_fold=[1.0-train_size, train_size, ])\n",
    "    train_indices, test_indices = next(stratifier.split(X, y))\n",
    "    X_train, y_train = X[train_indices], y[train_indices]\n",
    "    X_test, y_test = X[test_indices], y[test_indices]\n",
    "    return X_train, X_test, y_train, y_test"
   ]
  },
  {
   "cell_type": "code",
   "execution_count": 42,
   "id": "ab2b0de1",
   "metadata": {},
   "outputs": [
    {
     "name": "stdout",
     "output_type": "stream",
     "text": [
      "train: 2612 (0.70)\n",
      "val: 558 (0.15)\n",
      "test: 577 (0.15)\n"
     ]
    }
   ],
   "source": [
    "X_train, X_, y_train, y_ = iterative_train_test_split(\n",
    "    X, Y, train_size=train_size)\n",
    "X_val, X_test, y_val, y_test = iterative_train_test_split(\n",
    "    X_, y_, train_size=0.5)\n",
    "\n",
    "print(f\"train: {len(X_train)} ({len(X_train)/len(X):.2f})\\n\"\n",
    "      f\"val: {len(X_val)} ({len(X_val)/len(X):.2f})\\n\"\n",
    "      f\"test: {len(X_test)} ({len(X_test)/len(X):.2f})\")"
   ]
  },
  {
   "cell_type": "code",
   "execution_count": 56,
   "id": "0b9ccea0",
   "metadata": {},
   "outputs": [],
   "source": [
    "from shutil import copy\n",
    "\n",
    "output_dir = os.path.join('datasets','car_dent_voc_new','train')\n",
    "for file in X_train:\n",
    "    src1 = os.path.join(data_dir,file)\n",
    "    src2 = os.path.join(data_dir,file.rsplit('.',maxsplit=1)[0]+'.xml')\n",
    "    copy(src1,output_dir)\n",
    "    copy(src2,output_dir)\n",
    "    "
   ]
  },
  {
   "cell_type": "code",
   "execution_count": 57,
   "id": "043a8bc6",
   "metadata": {},
   "outputs": [],
   "source": [
    "from shutil import copy\n",
    "\n",
    "output_dir = os.path.join('datasets','car_dent_voc_new','valid')\n",
    "for file in X_val:\n",
    "    src1 = os.path.join(data_dir,file)\n",
    "    src2 = os.path.join(data_dir,file.rsplit('.',maxsplit=1)[0]+'.xml')\n",
    "    copy(src1,output_dir)\n",
    "    copy(src2,output_dir)\n",
    "    "
   ]
  },
  {
   "cell_type": "code",
   "execution_count": 58,
   "id": "873565d4",
   "metadata": {},
   "outputs": [],
   "source": [
    "from shutil import copy\n",
    "\n",
    "output_dir = os.path.join('datasets','car_dent_voc_new','test')\n",
    "for file in X_test:\n",
    "    src1 = os.path.join(data_dir,file)\n",
    "    src2 = os.path.join(data_dir,file.rsplit('.',maxsplit=1)[0]+'.xml')\n",
    "    copy(src1,output_dir)\n",
    "    copy(src2,output_dir)\n",
    "    "
   ]
  },
  {
   "cell_type": "code",
   "execution_count": null,
   "id": "69c0328e",
   "metadata": {},
   "outputs": [],
   "source": []
  }
 ],
 "metadata": {
  "kernelspec": {
   "display_name": "Python 3 (ipykernel)",
   "language": "python",
   "name": "python3"
  },
  "language_info": {
   "codemirror_mode": {
    "name": "ipython",
    "version": 3
   },
   "file_extension": ".py",
   "mimetype": "text/x-python",
   "name": "python",
   "nbconvert_exporter": "python",
   "pygments_lexer": "ipython3",
   "version": "3.9.7"
  }
 },
 "nbformat": 4,
 "nbformat_minor": 5
}
